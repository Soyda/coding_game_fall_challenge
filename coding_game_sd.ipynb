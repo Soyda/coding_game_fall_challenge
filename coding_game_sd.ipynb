{
 "cells": [
  {
   "cell_type": "code",
   "execution_count": 1,
   "metadata": {},
   "outputs": [
    {
     "data": {
      "text/plain": [
       "-3"
      ]
     },
     "execution_count": 1,
     "metadata": {},
     "output_type": "execute_result"
    }
   ],
   "source": [
    "import sys\n",
    "import math\n",
    "from dataclasses import dataclass\n",
    "import random\n",
    "\n",
    "ME = 1\n",
    "OPP = 0\n",
    "NONE = -1\n",
    "\n",
    "@dataclass\n",
    "class Tile:\n",
    "    x: int\n",
    "    y: int\n",
    "    scrap_amount: int\n",
    "    owner: int\n",
    "    units: int\n",
    "    recycler: bool\n",
    "    can_build: bool\n",
    "    can_spawn: bool\n",
    "    in_range_of_recycler: bool\n",
    "\n",
    "width, height = [int(i) for i in input().split()]\n",
    "\n",
    "# game loop\n",
    "while True:\n",
    "    tiles = []\n",
    "    my_units = []\n",
    "    opp_units = []\n",
    "    my_recyclers = []\n",
    "    opp_recyclers = []\n",
    "    opp_tiles = []\n",
    "    my_tiles = []\n",
    "    neutral_tiles = []\n",
    "\n",
    "   \n",
    "\n",
    "    my_matter, opp_matter = [int(i) for i in input().split()]\n",
    "    for y in range(height):\n",
    "        for x in range(width):\n",
    "            # owner: 1 = me, 0 = foe, -1 = neutral\n",
    "            # recycler, can_build, can_spawn, in_range_of_recycler: 1 = True, 0 = False\n",
    "            scrap_amount, owner, units, recycler, can_build, can_spawn, in_range_of_recycler = [int(k) for k in input().split()]\n",
    "            tile = Tile(x, y, scrap_amount, owner, units, recycler == 1, can_build == 1, can_spawn == 1, in_range_of_recycler == 1)\n",
    "\n",
    "            tiles.append(tile)\n",
    "\n",
    "            if tile.owner == ME:\n",
    "                my_tiles.append(tile)\n",
    "                if tile.units > 0:\n",
    "                    my_units.append(tile)\n",
    "                elif tile.recycler:\n",
    "                    my_recyclers.append(tile)\n",
    "            elif tile.owner == OPP:\n",
    "                opp_tiles.append(tile)\n",
    "                if tile.units > 0:\n",
    "                    opp_units.append(tile)\n",
    "                elif tile.recycler:\n",
    "                    opp_recyclers.append(tile)\n",
    "            else:\n",
    "                neutral_tiles.append(tile)\n",
    "\n",
    "    actions = []\n",
    "\n",
    "    for tile in my_tiles:\n",
    "        if tile.can_spawn:\n",
    "            amount = 1 # TODO: pick amount of robots to spawn here\n",
    "            if amount > 0:\n",
    "                actions.append('SPAWN {} {} {}'.format(amount, tile.x, tile.y))\n",
    "        # if tile.can_build:\n",
    "        #     if random.randint(0, 15) == 0:\n",
    "        #         should_build = True # TODO: pick whether to build recycler here\n",
    "        #     else: \n",
    "        #         should_build = False\n",
    "            \n",
    "        #     actions.append('BUILD {} {}'.format(tile.x, tile.y))\n",
    "\n",
    "    for tile in my_units:\n",
    "        \n",
    "        for opp in opp_units:\n",
    "\n",
    "\n",
    "            target = opp # TODO: pick a destination tile\n",
    "            \n",
    "            if target:\n",
    "                amount = 1 # TODO: pick amount of units to move\n",
    "                actions.append('MOVE {} {} {} {} {}'.format(amount, tile.x, tile.y, target.x, target.y))\n",
    "\n",
    "\n",
    "    # To debug: print(\"Debug messages...\", file=sys.stderr, flush=True)\n",
    "    print(';'.join(actions) if len(actions) > 0 else 'WAIT')\n",
    "    print(\"Debug messages...\", file=sys.stderr, flush=True)\n"
   ]
  }
 ],
 "metadata": {
  "kernelspec": {
   "display_name": "Python 3.9.7 ('ml')",
   "language": "python",
   "name": "python3"
  },
  "language_info": {
   "name": "python",
   "version": "3.9.7"
  },
  "orig_nbformat": 4,
  "vscode": {
   "interpreter": {
    "hash": "ebc2a910d98d05b60cee1f6390b64d8c73fd09e93512480e3cfe8b744316ad82"
   }
  }
 },
 "nbformat": 4,
 "nbformat_minor": 2
}
